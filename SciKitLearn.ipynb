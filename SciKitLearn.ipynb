{
  "nbformat": 4,
  "nbformat_minor": 0,
  "metadata": {
    "colab": {
      "provenance": [],
      "toc_visible": true
    },
    "kernelspec": {
      "name": "python3",
      "display_name": "Python 3"
    },
    "language_info": {
      "name": "python"
    }
  },
  "cells": [
    {
      "cell_type": "code",
      "execution_count": 1,
      "metadata": {
        "colab": {
          "base_uri": "https://localhost:8080/"
        },
        "id": "NqY6KJM74IbC",
        "outputId": "d611fd56-3ebd-4fc5-e9ba-35c914f0fa46"
      },
      "outputs": [
        {
          "output_type": "stream",
          "name": "stdout",
          "text": [
            "Naive Bayes Results:\n",
            "Accuracy: 0.93\n",
            "              precision    recall  f1-score   support\n",
            "\n",
            "           0       0.93      0.93      0.93      4710\n",
            "           1       0.92      0.92      0.92      4270\n",
            "\n",
            "    accuracy                           0.93      8980\n",
            "   macro avg       0.93      0.93      0.93      8980\n",
            "weighted avg       0.93      0.93      0.93      8980\n",
            "\n"
          ]
        }
      ],
      "source": [
        "import pandas as pd\n",
        "from sklearn.feature_extraction.text import TfidfVectorizer\n",
        "from sklearn.model_selection import train_test_split\n",
        "from sklearn.naive_bayes import MultinomialNB\n",
        "from sklearn.svm import SVC\n",
        "from sklearn.metrics import classification_report, accuracy_score\n",
        "\n",
        "# Load Dataset\n",
        "\n",
        "fake_news = pd.read_csv(\"/content/Fake.csv\")\n",
        "real_news = pd.read_csv(\"/content/True.csv\")\n",
        "\n",
        "# Add a target column: 1 for real news, 0 for fake news\n",
        "fake_news['label'] = 0\n",
        "real_news['label'] = 1\n",
        "\n",
        "# Combine the datasets\n",
        "news_data = pd.concat([fake_news, real_news], axis=0).reset_index(drop=True)\n",
        "\n",
        "# Shuffle the dataset\n",
        "news_data = news_data.sample(frac=1, random_state=42).reset_index(drop=True)\n",
        "\n",
        "# Extract features and labels\n",
        "X = news_data['text']\n",
        "y = news_data['label']\n",
        "\n",
        "# Convert text data to numerical data using TF-IDF\n",
        "tfidf_vectorizer = TfidfVectorizer(stop_words='english', max_features=5000)\n",
        "X_tfidf = tfidf_vectorizer.fit_transform(X)\n",
        "\n",
        "# Split the data into training and testing sets\n",
        "X_train, X_test, y_train, y_test = train_test_split(X_tfidf, y, test_size=0.2, random_state=42)\n",
        "\n",
        "# Naive Bayes Classifier\n",
        "nb_model = MultinomialNB()\n",
        "nb_model.fit(X_train, y_train)\n",
        "nb_predictions = nb_model.predict(X_test)\n",
        "\n",
        "print(\"Naive Bayes Results:\")\n",
        "print(f\"Accuracy: {accuracy_score(y_test, nb_predictions):.2f}\")\n",
        "print(classification_report(y_test, nb_predictions))\n",
        "\n",
        "\n"
      ]
    },
    {
      "cell_type": "code",
      "source": [
        "import pandas as pd\n",
        "from sklearn.feature_extraction.text import TfidfVectorizer\n",
        "from sklearn.model_selection import train_test_split\n",
        "from sklearn.svm import LinearSVC\n",
        "from sklearn.metrics import classification_report, accuracy_score\n",
        "\n",
        "# Load Dataset\n",
        "fake_news = pd.read_csv(\"/content/Fake.csv\")\n",
        "real_news = pd.read_csv(\"/content/True.csv\")\n",
        "\n",
        "# Add a target column: 1 for real news, 0 for fake news\n",
        "fake_news['label'] = 0\n",
        "real_news['label'] = 1\n",
        "\n",
        "# Combine the datasets\n",
        "news_data = pd.concat([fake_news, real_news], axis=0).reset_index(drop=True)\n",
        "\n",
        "# Take a smaller subset for quicker processing\n",
        "news_data = news_data.sample(n=10000, random_state=42)\n",
        "\n",
        "# Extract features and labels\n",
        "X = news_data['text']\n",
        "y = news_data['label']\n",
        "\n",
        "# Convert text data to numerical data using TF-IDF\n",
        "tfidf_vectorizer = TfidfVectorizer(stop_words='english', max_features=2000)\n",
        "X_tfidf = tfidf_vectorizer.fit_transform(X)\n",
        "\n",
        "# Split the data into training and testing sets\n",
        "X_train, X_test, y_train, y_test = train_test_split(X_tfidf, y, test_size=0.2, random_state=42)\n",
        "\n",
        "# Support Vector Machine Classifier (Optimized with LinearSVC)\n",
        "svm_model = LinearSVC(random_state=42)\n",
        "svm_model.fit(X_train, y_train)\n",
        "svm_predictions = svm_model.predict(X_test)\n",
        "\n",
        "# Evaluate the SVM model\n",
        "print(\"Support Vector Machine Results:\")\n",
        "print(f\"Accuracy: {accuracy_score(y_test, svm_predictions):.2f}\")\n",
        "print(classification_report(y_test, svm_predictions))\n"
      ],
      "metadata": {
        "colab": {
          "base_uri": "https://localhost:8080/"
        },
        "id": "5xwf0rcJ5lyH",
        "outputId": "a1f6ef4e-46ad-47b4-b6ad-fe9a6c3f4a1c"
      },
      "execution_count": 1,
      "outputs": [
        {
          "output_type": "stream",
          "name": "stdout",
          "text": [
            "Support Vector Machine Results:\n",
            "Accuracy: 0.98\n",
            "              precision    recall  f1-score   support\n",
            "\n",
            "           0       0.99      0.98      0.98      1081\n",
            "           1       0.98      0.98      0.98       919\n",
            "\n",
            "    accuracy                           0.98      2000\n",
            "   macro avg       0.98      0.98      0.98      2000\n",
            "weighted avg       0.98      0.98      0.98      2000\n",
            "\n"
          ]
        }
      ]
    }
  ]
}